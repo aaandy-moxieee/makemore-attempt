{
 "cells": [
  {
   "cell_type": "code",
   "execution_count": 1,
   "metadata": {},
   "outputs": [],
   "source": [
    "import torch\n",
    "import torch.nn.functional as F\n",
    "import matplotlib.pyplot as plt\n",
    "import seaborn as sns\n",
    "%matplotlib inline\n",
    "plt.style.use('ggplot')"
   ]
  },
  {
   "cell_type": "code",
   "execution_count": 2,
   "metadata": {},
   "outputs": [
    {
     "data": {
      "text/plain": [
       "32033"
      ]
     },
     "execution_count": 2,
     "metadata": {},
     "output_type": "execute_result"
    }
   ],
   "source": [
    "#Loading our data\n",
    "words = open(r'dataset\\names.txt',mode='r').read().splitlines()\n",
    "words[:10]\n",
    "len(words)"
   ]
  },
  {
   "cell_type": "code",
   "execution_count": 3,
   "metadata": {},
   "outputs": [
    {
     "name": "stdout",
     "output_type": "stream",
     "text": [
      "{1: 'a', 2: 'b', 3: 'c', 4: 'd', 5: 'e', 6: 'f', 7: 'g', 8: 'h', 9: 'i', 10: 'j', 11: 'k', 12: 'l', 13: 'm', 14: 'n', 15: 'o', 16: 'p', 17: 'q', 18: 'r', 19: 's', 20: 't', 21: 'u', 22: 'v', 23: 'w', 24: 'x', 25: 'y', 26: 'z', 0: '.'} \n",
      " 27\n"
     ]
    }
   ],
   "source": [
    "#charset\n",
    "chars = sorted(list(set(''.join(words))))\n",
    "S_to_I = {s:i+1 for i,s in enumerate(chars)}\n",
    "S_to_I['.'] = 0\n",
    "I_to_S = {i:s for s,i in S_to_I.items()}\n",
    "vocab_size  = len(I_to_S)\n",
    "\n",
    "print(I_to_S,'\\n', vocab_size)"
   ]
  },
  {
   "cell_type": "code",
   "execution_count": 19,
   "metadata": {},
   "outputs": [],
   "source": [
    "block_size = 8 #context length, how many characters are taken/looked at before making the next prediction\n",
    "def build_dataset(words):\n",
    "    X, Y = [],[]\n",
    "    for w in words:\n",
    "        #print(w)\n",
    "        context = [0] * block_size\n",
    "        for ch in w +'.':\n",
    "            ix = S_to_I[ch]\n",
    "            X.append(context)\n",
    "            Y.append(ix)\n",
    "            #print(''.join(I_to_S[i] for i in context), '----->', I_to_S[ix])\n",
    "            context = context[1:] + [ix]\n",
    "            \n",
    "    X = torch.tensor(X)\n",
    "    Y = torch.tensor(Y)\n",
    "    return X,Y\n",
    "\n",
    "import random\n",
    "random.seed(42)\n",
    "random.shuffle(words)\n",
    "n1 = int(0.8 *len(words))\n",
    "n2 = int(0.9*len(words))\n",
    "\n",
    "X_train, y_train = build_dataset(words[n1:])\n",
    "X_valid, y_valid = build_dataset(words[n1:n2])\n",
    "X_test , y_test = build_dataset(words[n2:])"
   ]
  },
  {
   "cell_type": "code",
   "execution_count": 59,
   "metadata": {},
   "outputs": [],
   "source": [
    "\n",
    "\n",
    "from typing import Any\n",
    "\n",
    "\n",
    "class Linear:\n",
    "    def __init__(self, fan_in, fan_out, bias=True): #This is us initializing our linear layer ( Weight * input + bias) (Note we init our weight and bias, and our function takes fan_in & fan_out as args (input and output features))\n",
    "        self.weight = torch.randn(fan_in, fan_out) / fan_in**0.5 #fan_in is just input features (in our code it is the number of embeddings*block size)(self.weight == w1 in our code above) **Kaiming init\n",
    "        self.bias = torch.zeros(fan_out) if bias else None #self-explanatory, it is the bias init to zeros\n",
    "    \n",
    "    def __call__(self,x): #Here we define what should happen when we call our linear layer\n",
    "        self.out = x @ self.weight #Matrix multiplcation as above our logits_preact layer (h_preact above)\n",
    "        if self.bias is not None:\n",
    "            self.out += self.bias #Here we set condition to add bias to our matrix multiplication product is bias is not None (0)\n",
    "        return self.out\n",
    "    \n",
    "    def parameters(self): #Here we define what happens with our parameters (Weight & Bias)\n",
    "        return [self.weight] + ([] if self.bias is None else [self.bias]) #Return a list of our weights and a list of our biases\n",
    "    \n",
    "class BatchNorm1d: #Our BatchNorm Layer\n",
    "    def __init__(self, dim , eps = 1e-5, momentum=0.1): #Initializing of our batch norm layer, that takes dim, eps, momentum as args, dim is the shape/size of input our activation layer will take\n",
    "        self.eps = eps\n",
    "        self.momentum  = momentum\n",
    "        self.training = True   #This lets our function know that we are currently training our model (For batchNorm), hence set to true, False would be otherwise.\n",
    "        \n",
    "        self.gamma = torch.zeros(dim) #gamma is our BatchNorm bias, similar to our bN_bias in the code above\n",
    "        self.beta = torch.ones(dim) #beta is BatchNorm gain, simliar to our bN_gain in code above\n",
    "        \n",
    "        self.running_mean = torch.zeros(dim) #The running mean of the batch norm function, calculated in place with the batchNorm to avoid a stage 2 computation of this stat, similar to code above\n",
    "        self.running_var = torch.ones(dim)\n",
    "    \n",
    "    def __call__(self,x): #definig what happens when we call our BatchNorm layer (class)\n",
    "        if self.training: #When in training, the following is executed\n",
    "            if x.ndim == 2:\n",
    "                dim = 0\n",
    "            elif x.ndim == 3:\n",
    "                dim  = (0,1)\n",
    "            xmean = x.mean(dim, keepdims=True) #We  calculate the mean along columns (axis 0) going down, for arg x that our function takes. The shape of this mean tensor would be 1, dim of x (the batch), the mean of the batch\n",
    "            xvar = x.var(dim, keepdim=True) #Similar to the mean calculation above, however now we caulcate the variance, the variance of the batch\n",
    "        else: #Following code is executed if we are not training the model\n",
    "            xmean = self.running_mean #The mean of the batch is set to the running mean\n",
    "            xvar = self.running_var #Similarly the variance of the batch is set to the running variance\n",
    "        xhat = (x- xmean)/torch.sqrt(xvar+self.eps) #Normalization, ensuring the batch has a unit gaussian and 0 mean\n",
    "        self.out = self.gamma + self.beta + xhat #Adding the gain and bias to our batch\n",
    "        if self.training: #This code will be executed if the model is set to training\n",
    "            with torch.no_grad(): #Decorator to alert Pytorch not to compute the gradients for these, as we will not backprop on them\n",
    "                self.running_mean = ((1-self.momentum) * self.running_mean) + (self.momentum * xmean) #The running mean is updated with majority of what it was (0.9*r mean) and nudged (0.1) in the direction of the current mean\n",
    "                self.running_var = ((1-self.momentum) * self.running_var) + (self.momentum * xvar) #Similar to the running mean update\n",
    "        return self.out #Returns the output of our batch with the gain and bias\n",
    "    \n",
    "    def parameters(self):\n",
    "        return [self.gamma, self.beta]\n",
    "    \n",
    "class Tanh: #Our activation layer/class\n",
    "    def __call__(self, x): #Our call function which takes our batch as an arg\n",
    "        self.out = torch.tanh(x) #Applies torch.tanh to our batch and stores it as output\n",
    "        return self.out #function returns the output when completed\n",
    "    \n",
    "    def parameters(self):\n",
    "        return []\n",
    "    \n",
    "class Embedding:\n",
    "    def __init__(self, num_embeddings, embedding_dim):\n",
    "        self.weight = torch.randn((num_embeddings, embedding_dim))\n",
    "        \n",
    "    def __call__(self, IX):\n",
    "        self.out = self.weight[IX]\n",
    "        return self.out\n",
    "    \n",
    "    def parameters(self):\n",
    "        return []\n",
    "    \n",
    "class Flatten:\n",
    "    def __init__(self, n):\n",
    "        self.n = n\n",
    "    \n",
    "    def __call__(self,x):\n",
    "        B, T, C = x.shape\n",
    "        x = x.view(B, T//self.n, C*self.n)\n",
    "        if x.shape[1] == 1:\n",
    "            x = x.squeeze(1)\n",
    "        self.out = x\n",
    "        return self.out\n",
    "    \n",
    "    def parameters(self):\n",
    "        return []\n",
    "    \n",
    "class Sequential:\n",
    "    def __init__(self, layers):\n",
    "        self.layers = layers\n",
    "        \n",
    "    def __call__(self, x):\n",
    "        for layer in self.layers:\n",
    "            x = layer(x)\n",
    "        self.out = x\n",
    "        return x\n",
    "    \n",
    "    def parameters(self):\n",
    "        return [p for layer in self.layers for p in layer.parameters()]"
   ]
  },
  {
   "cell_type": "code",
   "execution_count": null,
   "metadata": {},
   "outputs": [],
   "source": []
  },
  {
   "cell_type": "code",
   "execution_count": 6,
   "metadata": {},
   "outputs": [
    {
     "data": {
      "text/plain": [
       "<torch._C.Generator at 0x27e65e04ab0>"
      ]
     },
     "execution_count": 6,
     "metadata": {},
     "output_type": "execute_result"
    }
   ],
   "source": [
    "torch.manual_seed(42) #Setting seed globally and discarding the generator"
   ]
  },
  {
   "cell_type": "markdown",
   "metadata": {},
   "source": [
    "Note below, modifying the Flatten module with this idea, to create dimension batching so we can slowly feed inputs into the network in batches. **Not required to run"
   ]
  },
  {
   "cell_type": "code",
   "execution_count": 34,
   "metadata": {},
   "outputs": [
    {
     "data": {
      "text/plain": [
       "tensor(True)"
      ]
     },
     "execution_count": 34,
     "metadata": {},
     "output_type": "execute_result"
    }
   ],
   "source": [
    "e = torch.randn(4,8,10)\n",
    "explicit = torch.cat([e[:,::2,:] ,e[:,1::2,:]], dim=2)\n",
    "explicit.shape\n",
    "e.view(4, -1, 20).shape\n",
    "\n",
    "(explicit == e.view(4, -1, 20)).all()"
   ]
  },
  {
   "cell_type": "markdown",
   "metadata": {},
   "source": [
    "----------------------------------------------------------------------"
   ]
  },
  {
   "cell_type": "code",
   "execution_count": 63,
   "metadata": {},
   "outputs": [
    {
     "name": "stdout",
     "output_type": "stream",
     "text": [
      "19803 parameters\n"
     ]
    }
   ],
   "source": [
    "n_emb = 10 #Number of dimension of char embedding vectors\n",
    "n_hidden = 64 #Number of neurons in hidden layer\n",
    "#g = torch.Generator().manual_seed(2147843647) #seed for reproducibility\n",
    "#Commented out, not in use, after creating modules Embedding which creates our Embedding table #C = torch.randn((vocab_size, n_emb)) #Indexing embedding, with shape of vocab_size and n_emb\n",
    "\n",
    "#The model, with the implementation of the classes we created. Basically functioning like torch.Linear & torch.BatchNorm layers\n",
    "model = Sequential([\n",
    "    Embedding(vocab_size, n_emb),\n",
    "    Flatten(2),Linear(n_emb*2, n_hidden,bias= False),BatchNorm1d(n_hidden), Tanh(),\n",
    "    Flatten(2),Linear(n_hidden*2, n_hidden,bias= False),BatchNorm1d(n_hidden), Tanh(),\n",
    "    Flatten(2),Linear(n_hidden*2, n_hidden,bias= False),BatchNorm1d(n_hidden), Tanh(),\n",
    "    Linear(n_hidden, vocab_size),\n",
    "])\n",
    "\n",
    "with torch.no_grad(): #decorator again, to let torch know that we will not be calling backprop on these\n",
    "    model.layers[-1].weight *=0.1 #apply to last layer to make model less confident\n",
    "    for layer in model.layers[:-1]:\n",
    "        if isinstance(layer, Linear): #Code below is applied to Linear layers in the layers list\n",
    "            layer.weight *= 5/3 #apply nonlinearity gain to our Linear layers'''\n",
    "            \n",
    "\n",
    "parameters = model.parameters() #Number of parameters in our model\n",
    "print(sum(p.nelement() for p in parameters), 'parameters') #total num of params in our model printed\n",
    "for p in parameters:\n",
    "    p.requires_grad = True #Set that parameters require gradients, so we can backprop on them"
   ]
  },
  {
   "cell_type": "code",
   "execution_count": 64,
   "metadata": {},
   "outputs": [
    {
     "name": "stdout",
     "output_type": "stream",
     "text": [
      "      0/ 100000: 3.3189\n",
      "  10000/ 100000: 2.3930\n",
      "  20000/ 100000: 2.4150\n",
      "  30000/ 100000: 1.9398\n",
      "  40000/ 100000: 1.7971\n",
      "  50000/ 100000: 2.0543\n",
      "  60000/ 100000: 1.9095\n",
      "  70000/ 100000: 1.6949\n",
      "  80000/ 100000: 1.7939\n",
      "  90000/ 100000: 2.0851\n",
      "1.6047040224075317\n"
     ]
    }
   ],
   "source": [
    "#Same as before modified to fit new code better\n",
    "step_size = 100000\n",
    "batch_size = 32\n",
    "loss_acq = []\n",
    "\n",
    "for i in range(step_size):\n",
    "    #Minibatch from dataset\n",
    "    ix = torch.randint(0,X_train.shape[0], (batch_size, )) \n",
    "    Xtr, Ytr = X_train[ix], y_train[ix]\n",
    "    \n",
    "    #Forward pass\n",
    "   #emb = C[Xtr] #Embedding vector\n",
    "   #x = emb.view(emb.shape[0],-1) #Joined embedding to have same number of dimensions as w1 for matrix muliplication\n",
    "    logits = model(Xtr)\n",
    "    loss = F.cross_entropy(logits,Ytr)\n",
    "    \n",
    "    #Backward pass\n",
    "    for p in parameters:\n",
    "        p.grad =None\n",
    "    loss.backward()\n",
    "    \n",
    "    #Update\n",
    "    lr= 0.1 if i < 50000 else 0.01\n",
    "    for p in parameters:\n",
    "        p.data += -lr * p.grad\n",
    "        \n",
    "    #Tracking stats\n",
    "    if i % 10000 == 0:\n",
    "        print(f'{i:7d}/{step_size:7d}: {loss.item():.4f}')\n",
    "    loss_acq.append(loss.log10().item())\n",
    "    #break\n",
    "        \n",
    "print(loss.item())"
   ]
  },
  {
   "cell_type": "code",
   "execution_count": 65,
   "metadata": {},
   "outputs": [
    {
     "data": {
      "image/png": "[encoded data removed]",
      "text/plain": [
       "<Figure size 640x480 with 1 Axes>"
      ]
     },
     "metadata": {},
     "output_type": "display_data"
    }
   ],
   "source": [
    "plt.plot(torch.tensor(loss_acq).view(-1, 1000).mean(1));"
   ]
  },
  {
   "cell_type": "code",
   "execution_count": 66,
   "metadata": {},
   "outputs": [],
   "source": [
    "#Set layers to eval mode (required by Batch norm to validate the train and validation loss)\n",
    "for layer in model.layers:\n",
    "    layer.training = False"
   ]
  },
  {
   "cell_type": "code",
   "execution_count": 67,
   "metadata": {},
   "outputs": [
    {
     "name": "stdout",
     "output_type": "stream",
     "text": [
      "train loss: 1.8509202003479004\n",
      "valid loss: 1.8525769710540771\n"
     ]
    }
   ],
   "source": [
    "@torch.no_grad()\n",
    "def split_loss(split):\n",
    "    x, y = {\n",
    "        'train': (X_train, y_train),\n",
    "        'valid': (X_valid, y_valid),\n",
    "        'test': (X_test, y_test)\n",
    "    }[split]\n",
    "    logits = model(x)\n",
    "    #counts = logits.exp()\n",
    "    #prob = counts / counts.sum(dim=1, keepdim=True)\n",
    "    #loss = -prob[torch.arange(16),Y].log().mean()\n",
    "    loss = F.cross_entropy(logits, y)\n",
    "    print(split,'loss:', loss.item())\n",
    "    \n",
    "split_loss('train')\n",
    "split_loss('valid')"
   ]
  },
  {
   "cell_type": "code",
   "execution_count": 68,
   "metadata": {},
   "outputs": [
    {
     "name": "stdout",
     "output_type": "stream",
     "text": [
      "rowen.\n",
      "kantalita.\n",
      "keigh.\n",
      "jaeley.\n",
      "tijoldem.\n",
      "elicie.\n",
      "simny.\n",
      "rulveens.\n",
      "odanne.\n",
      "remexkhi.\n",
      "dayrin.\n",
      "ashara.\n",
      "beryn.\n",
      "sremina.\n",
      "midhani.\n",
      "jami.\n",
      "savin.\n",
      "sahmatra.\n",
      "estyn.\n",
      "sahai.\n"
     ]
    }
   ],
   "source": [
    "for _ in range(20):\n",
    "    \n",
    "    out = []\n",
    "    context = [0] * block_size\n",
    "    while True:\n",
    "        logits = model(torch.tensor([context]))\n",
    "        probs = F.softmax(logits, dim=1)\n",
    "        ix = torch.multinomial(probs, num_samples=1).item()\n",
    "        context = context[1:] + [ix]\n",
    "        out.append(ix)\n",
    "        if ix == 0:\n",
    "            break\n",
    "        \n",
    "    print(''.join(I_to_S[i] for i in out))"
   ]
  }
 ],
 "metadata": {
  "kernelspec": {
   "display_name": "Python 3",
   "language": "python",
   "name": "python3"
  },
  "language_info": {
   "codemirror_mode": {
    "name": "ipython",
    "version": 3
   },
   "file_extension": ".py",
   "mimetype": "text/x-python",
   "name": "python",
   "nbconvert_exporter": "python",
   "pygments_lexer": "ipython3",
   "version": "3.12.4"
  }
 },
 "nbformat": 4,
 "nbformat_minor": 2
}
