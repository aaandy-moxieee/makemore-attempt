{
 "cells": [
  {
   "cell_type": "markdown",
   "metadata": {},
   "source": [
    "Cleaned up version of makemore MLP implementation (for V1 - look at MLP notebook)"
   ]
  },
  {
   "cell_type": "code",
   "execution_count": 1,
   "metadata": {},
   "outputs": [],
   "source": [
    "import torch\n",
    "import torch.nn.functional as F\n",
    "import matplotlib.pyplot as plt\n",
    "import seaborn as sns\n",
    "%matplotlib inline\n",
    "plt.style.use('ggplot')"
   ]
  },
  {
   "cell_type": "code",
   "execution_count": 2,
   "metadata": {},
   "outputs": [
    {
     "data": {
      "text/plain": [
       "32033"
      ]
     },
     "execution_count": 2,
     "metadata": {},
     "output_type": "execute_result"
    }
   ],
   "source": [
    "#Loading our data\n",
    "words = open(r'dataset\\names.txt',mode='r').read().splitlines()\n",
    "words[:10]\n",
    "len(words)"
   ]
  },
  {
   "cell_type": "code",
   "execution_count": 3,
   "metadata": {},
   "outputs": [
    {
     "name": "stdout",
     "output_type": "stream",
     "text": [
      "{1: 'a', 2: 'b', 3: 'c', 4: 'd', 5: 'e', 6: 'f', 7: 'g', 8: 'h', 9: 'i', 10: 'j', 11: 'k', 12: 'l', 13: 'm', 14: 'n', 15: 'o', 16: 'p', 17: 'q', 18: 'r', 19: 's', 20: 't', 21: 'u', 22: 'v', 23: 'w', 24: 'x', 25: 'y', 26: 'z', 0: '.'} \n",
      " 27\n"
     ]
    }
   ],
   "source": [
    "#charset\n",
    "chars = sorted(list(set(''.join(words))))\n",
    "S_to_I = {s:i+1 for i,s in enumerate(chars)}\n",
    "S_to_I['.'] = 0\n",
    "I_to_S = {i:s for s,i in S_to_I.items()}\n",
    "vocab_size  = len(I_to_S)\n",
    "\n",
    "print(I_to_S,'\\n', vocab_size)"
   ]
  },
  {
   "cell_type": "code",
   "execution_count": 4,
   "metadata": {},
   "outputs": [],
   "source": [
    "block_size = 3\n",
    "def build_dataset(words):\n",
    "    X, Y = [],[]\n",
    "    for w in words:\n",
    "        #print(w)\n",
    "        context = [0] * block_size\n",
    "        for ch in w +'.':\n",
    "            ix = S_to_I[ch]\n",
    "            X.append(context)\n",
    "            Y.append(ix)\n",
    "            #print(''.join(I_to_S[i] for i in context), '----->', I_to_S[ix])\n",
    "            context = context[1:] + [ix]\n",
    "            \n",
    "    X = torch.tensor(X)\n",
    "    Y = torch.tensor(Y)\n",
    "    return X,Y\n",
    "\n",
    "import random\n",
    "random.seed(42)\n",
    "random.shuffle(words)\n",
    "n1 = int(0.8 *len(words))\n",
    "n2 = int(0.9*len(words))\n",
    "\n",
    "X_train, y_train = build_dataset(words[n1:])\n",
    "X_valid, y_valid = build_dataset(words[n1:n2])\n",
    "X_test , y_test = build_dataset(words[n2:])\n"
   ]
  },
  {
   "cell_type": "markdown",
   "metadata": {},
   "source": [
    "Parameters (outside of functional code block for easier interpretability and maintenance)"
   ]
  },
  {
   "cell_type": "code",
   "execution_count": 5,
   "metadata": {},
   "outputs": [],
   "source": [
    "n_emb = 10 #Number of dimensions for character embeddings\n",
    "n_hidden = 300 #Number of neurons in our Hidden tanh layer\n",
    "g =  torch.Generator().manual_seed(2147483647) # Set seed for reproducability\n",
    "C = torch.randn([vocab_size,n_emb], generator=g) #Our embedding table\n",
    "w1 = torch.randn([(n_emb* block_size),n_hidden],    generator=g) / (5/3)/(((n_emb*block_size)**0.5)) #*0.2 #created weights1 init to randn tensor with shape ( from our embedding, and 100 outputs as per our hyperparameter)\n",
    "b1 = torch.randn((n_hidden),    generator=g) * 0.01\n",
    "w2 = torch.randn([n_hidden,vocab_size],     generator=g) * 0.01 #created weights2 init to randn tensor with shape (100 as outputs from prev layer tanh, and 27 outputs as per our 'possible' charset)\n",
    "b2 = torch.randn((vocab_size),  generator=g) * 0 #At init, we set our b2 to zero, so we do not influence our logits and have a more even dist in the logits to record a lower init loss.\n",
    "\n",
    "#BatchNorm Parameters\n",
    "bN_gain = torch.ones((1,n_hidden)) #Batch Norm gain applied to scale and shift normalized batch, and allow network to backprop and adjust weights to move the normalized batch accordingly.\n",
    "bN_bias = torch.zeros((1,n_hidden)) #Batch Norm bias applied to similarly to Batch Norm gain above.\n",
    "bNmean_running = torch.zeros((1,n_hidden)) #bNmean running init to zero, as per our gaussian distribution.\n",
    "bNstd_running = torch.ones((1,n_hidden)) #bNstd running init to one, as per our gaussian distribution.\n",
    "#-------------------\n",
    "\n",
    "params = [C, w1, b1, w2, b2, bN_gain, bN_bias] #created new params variable to hold all Parameters as a list, so we can calculate total parameters in our network\n",
    "for p in params:\n",
    "    p.requires_grad = True"
   ]
  },
  {
   "cell_type": "code",
   "execution_count": 6,
   "metadata": {},
   "outputs": [
    {
     "name": "stdout",
     "output_type": "stream",
     "text": [
      "18297 parameters\n"
     ]
    }
   ],
   "source": [
    "print(f'{sum(p.nelement() for p in params)} parameters')"
   ]
  },
  {
   "cell_type": "code",
   "execution_count": 26,
   "metadata": {},
   "outputs": [
    {
     "name": "stdout",
     "output_type": "stream",
     "text": [
      "      0/ 100000: 3.3112\n",
      "  10000/ 100000: 2.0707\n",
      "  20000/ 100000: 1.8647\n",
      "  30000/ 100000: 2.1928\n",
      "  40000/ 100000: 1.9839\n",
      "  50000/ 100000: 2.3732\n",
      "  60000/ 100000: 1.8674\n",
      "  70000/ 100000: 1.7613\n",
      "  80000/ 100000: 1.8196\n",
      "  90000/ 100000: 2.0648\n",
      "1.7736772298812866\n"
     ]
    }
   ],
   "source": [
    "step_size = 100000\n",
    "batch_size = 64\n",
    "loss_acq = []\n",
    "for i in range(step_size):\n",
    "    #Minibatch from dataset\n",
    "    ix = torch.randint(0,X_train.shape[0], (batch_size, ),    generator=g) \n",
    "    Xtr, Ytr = X_train[ix], y_train[ix]\n",
    "    \n",
    "    #Forward pass\n",
    "    emb = C[Xtr] #Embedding vector\n",
    "    embcat = emb.view(emb.shape[0],-1) #Joined embedding to have same number of dimensions as w1 for matrix muliplication\n",
    "    h_preact = (embcat @ w1) #+ b1 # ---Side note, no need to have bias when using BatchNorm, esp BatchNorm in place with training, as bias is controlled by the BatchNorm bias\n",
    "    bNmean_i = h_preact.mean(0,keepdim=True) #BatchNorm mean at i iteration in the training\n",
    "    bNstd_i = h_preact.std(0, keepdim=True) #BatchNorm std at i iteration in the training\n",
    "    \n",
    "    h_preact_bN = bN_gain * (h_preact - bNmean_i )/bNstd_i + bN_bias #BatchNormalization layer, added before hidden tanh/activation layer, - added bNmean_i and bNstd_i for bNmean & bNstd calibration.\n",
    "    \n",
    "    with torch.no_grad():\n",
    "        bNmean_running = 0.99 * bNmean_i + 0.001 * bNmean_running\n",
    "        bNstd_running = 0.99 * bNstd_i + 0.001 * bNstd_running\n",
    "    \n",
    "    h = torch.tanh(h_preact_bN)\n",
    "    logits = h @ w2 +b2\n",
    "    #counts = logits.exp()\n",
    "    #prob = counts / counts.sum(dim=1, keepdim=True)\n",
    "    #loss = -prob[torch.arange(16),Y].log().mean()\n",
    "    loss = F.cross_entropy(logits, Ytr)\n",
    "    \n",
    "    #Backward pass\n",
    "    for p in params:\n",
    "        p.grad =None\n",
    "    loss.backward()\n",
    "    #learning rate adjust\n",
    "    #lr = learn_step[i]\n",
    "    #Update\n",
    "    lr= 0.1 if i < 50000 else 0.01\n",
    "    for p in params:\n",
    "        p.data += -lr * p.grad\n",
    "    #learning rate tracking\n",
    "    #learn_used.append(learn_exp[i])\n",
    "    if i % 10000 == 0:\n",
    "        print(f'{i:7d}/{step_size:7d}: {loss.item():.4f}')\n",
    "    loss_acq.append(loss.log10().item())\n",
    "    break\n",
    "        \n",
    "print(loss.item())"
   ]
  },
  {
   "cell_type": "code",
   "execution_count": 9,
   "metadata": {},
   "outputs": [
    {
     "data": {
      "text/plain": [
       "torch.Size([1, 300])"
      ]
     },
     "execution_count": 9,
     "metadata": {},
     "output_type": "execute_result"
    }
   ],
   "source": []
  },
  {
   "cell_type": "code",
   "execution_count": null,
   "metadata": {},
   "outputs": [],
   "source": [
    "#plt.figure(figsize=(20,10))\n",
    "#plt.imshow(h.abs() > 0.99, cmap='grey', interpolation='nearest')"
   ]
  },
  {
   "cell_type": "code",
   "execution_count": null,
   "metadata": {},
   "outputs": [],
   "source": [
    "#plt.hist(h.view(-1).tolist(),50);"
   ]
  },
  {
   "cell_type": "code",
   "execution_count": 18,
   "metadata": {},
   "outputs": [
    {
     "data": {
      "image/png": "[encoded data removed]",
      "text/plain": [
       "<Figure size 640x480 with 1 Axes>"
      ]
     },
     "metadata": {},
     "output_type": "display_data"
    }
   ],
   "source": [
    "plt.plot(loss_acq);"
   ]
  },
  {
   "cell_type": "markdown",
   "metadata": {},
   "source": [
    "Note that calibration below can be done in running with the network training iteration - Only kept in here as note"
   ]
  },
  {
   "cell_type": "code",
   "execution_count": 23,
   "metadata": {},
   "outputs": [],
   "source": [
    "#Calibrate the bN mean & std at the end of training\n",
    "with torch.no_grad():\n",
    "    emb = C[X_train]\n",
    "    embcat = emb.view(emb.shape[0],-1)\n",
    "    h_preact = embcat @ w1 + b1\n",
    "#measure/calc the mean & std over the entire training set\n",
    "    bN_mean = h_preact.mean(0,keepdim=True)\n",
    "    bN_std = h_preact.std(0, keepdim=True)"
   ]
  },
  {
   "cell_type": "markdown",
   "metadata": {},
   "source": [
    "Train and Validation split loss"
   ]
  },
  {
   "cell_type": "code",
   "execution_count": 24,
   "metadata": {},
   "outputs": [
    {
     "name": "stdout",
     "output_type": "stream",
     "text": [
      "train loss: 3.2584645748138428\n",
      "valid loss: 3.2588956356048584\n"
     ]
    }
   ],
   "source": [
    "@torch.no_grad()\n",
    "def split_loss(split):\n",
    "    x, y = {\n",
    "        'train': (X_train, y_train),\n",
    "        'valid': (X_valid, y_valid),\n",
    "        'test': (X_test, y_test)\n",
    "    }[split]\n",
    "    emb = C[x]\n",
    "    embcat = emb.view(emb.shape[0],-1)\n",
    "    h_preact = (embcat @ w1) + b1\n",
    "    h_preact_bN = bN_gain * (h_preact - bNmean_running)/ bNstd_running + bN_bias\n",
    "    h = torch.tanh(h_preact_bN)\n",
    "    logits = h @ w2 +b2\n",
    "    #counts = logits.exp()\n",
    "    #prob = counts / counts.sum(dim=1, keepdim=True)\n",
    "    #loss = -prob[torch.arange(16),Y].log().mean()\n",
    "    loss = F.cross_entropy(logits, y)\n",
    "    print(split,'loss:', loss.item())\n",
    "    \n",
    "split_loss('train')\n",
    "split_loss('valid')\n"
   ]
  },
  {
   "cell_type": "markdown",
   "metadata": {},
   "source": [
    "Sampling from the model"
   ]
  },
  {
   "cell_type": "code",
   "execution_count": 18,
   "metadata": {},
   "outputs": [
    {
     "name": "stdout",
     "output_type": "stream",
     "text": [
      "grabetzmaton.\n",
      "xegh.\n",
      "quriffryne.\n",
      "whegvinggupfred.\n",
      "kylynnnsh.\n",
      "gdwfploddp.\n",
      "xvvedhmen.\n",
      "doxqing.\n",
      "ktexgenfxwer.\n",
      "qujfatton.\n",
      "fawguguffuddh.\n",
      "wwy.\n",
      "wyxpi.\n",
      "xfmpseus.\n",
      "xhe.\n",
      "cubabkumwnnvyfferonquyphioshfrdev.\n",
      "juwafguchanvonguss.\n",
      "chragriq.\n",
      "blyk.\n",
      "grychiamberly.\n"
     ]
    }
   ],
   "source": [
    "for _ in range(20):\n",
    "    \n",
    "    out = []\n",
    "    context = [0] * block_size\n",
    "    while True:\n",
    "        emb = C[torch.tensor([context])]\n",
    "        embcat = emb.view(emb.shape[0],-1)\n",
    "        h = torch.tanh((embcat @ w1) + b1)\n",
    "        logits = h @ w2 + b2\n",
    "        probs = F.softmax(logits, dim=1)\n",
    "        ix = torch.multinomial(probs, num_samples=1).item()\n",
    "        context = context[1:] + [ix]\n",
    "        out.append(ix)\n",
    "        if ix == 0:\n",
    "            break\n",
    "        \n",
    "    print(''.join(I_to_S[i] for i in out))"
   ]
  },
  {
   "cell_type": "markdown",
   "metadata": {},
   "source": [
    "PyTorchfied Summary code of BatchNorm and Activation layers"
   ]
  },
  {
   "cell_type": "code",
   "execution_count": 12,
   "metadata": {},
   "outputs": [
    {
     "name": "stdout",
     "output_type": "stream",
     "text": [
      "378897 parameters\n",
      "      0/ 100000: 3.2983\n",
      "  10000/ 100000: 2.2153\n",
      "  20000/ 100000: 2.0614\n",
      "  30000/ 100000: 1.8009\n",
      "  40000/ 100000: 1.7688\n",
      "  50000/ 100000: 1.7286\n",
      "  60000/ 100000: 1.7739\n",
      "  70000/ 100000: 1.6999\n",
      "  80000/ 100000: 1.8644\n",
      "  90000/ 100000: 1.7052\n",
      "1.8589887619018555\n"
     ]
    }
   ],
   "source": [
    "from typing import Any\n",
    "\n",
    "\n",
    "class Linear:\n",
    "    def __init__(self, fan_in, fan_out, bias=True): #This is us initializing our linear layer ( Weight * input + bias) (Note we init our weight and bias, and our function takes fan_in & fan_out as args (input and output features))\n",
    "        self.weight = torch.randn(fan_in, fan_out, generator=g) / fan_in**0.5 #fan_in is just input features (in our code it is the number of embeddings*block size)(self.weight == w1 in our code above)\n",
    "        self.bias = torch.zeros(fan_out) if bias else None #self-explanatory, it is the bias init to zeros\n",
    "    \n",
    "    def __call__(self,x): #Here we define what should happen when we call our linear layer\n",
    "        self.out = x @ self.weight #Matrix multiplcation as above our logits_preact layer (h_preact above)\n",
    "        if self.bias is not None:\n",
    "            self.out += self.bias #Here we set condition to add bias to our matrix multiplication product is bias is not None (0)\n",
    "        return self.out\n",
    "    \n",
    "    def parameters(self): #Here we define what happens with our parameters (Weight & Bias)\n",
    "        return [self.weight] + ([] if self.bias is None else [self.bias]) #Return a list of our weights and a list of our biases\n",
    "    \n",
    "class BatchNorm1d: #Our BatchNorm Layer\n",
    "    def __init__(self, dim , eps = 1e-5, momentum=0.1): #Initializing of our batch norm layer, that takes dim, eps, momentum as args, dim is the shape/size of input our activation layer will take\n",
    "        self.eps = eps\n",
    "        self.momentum  = momentum\n",
    "        self.training = True   #This lets our function know that we are currently training our model, hence set to true, False would be otherwise.\n",
    "        \n",
    "        self.gamma = torch.zeros(dim) #gamma is our BatchNorm bias, similar to our bN_bias in the code above\n",
    "        self.beta = torch.ones(dim) #beta is BatchNorm gain, simliar to our bN_gain in code above\n",
    "        \n",
    "        self.running_mean = torch.zeros(dim) #The running mean of the batch norm function, calculated in place with the batchNorm to avoid a stage 2 computation of this stat, similar to code above\n",
    "        self.running_var = torch.ones(dim)\n",
    "    \n",
    "    def __call__(self,x): #definig what happens when we call our BatchNorm layer (class)\n",
    "        if self.training: #When in training, the following is executed\n",
    "            xmean = x.mean(0, keepdims=True) #We  calculate the mean along columns (axis 0) going down, for arg x that our function takes. The shape of this mean tensor would be 1, dim of x (the batch), the mean of the batch\n",
    "            xvar = x.var(0, keepdim=True) #Similar to the mean calculation above, however now we caulcate the variance, the variance of the batch\n",
    "        else: #Following code is executed if we are not training the model\n",
    "            xmean = self.running_mean #The mean of the batch is set to the running mean\n",
    "            xvar = self.running_var #Similarly the variance of the batch is set to the running variance\n",
    "        xhat = (x- xmean)/torch.sqrt(xvar+self.eps) #Normalization, ensuring the batch has a unit gaussian and 0 mean\n",
    "        self.out = self.gamma + self.beta + xhat #Adding the gain and bias to our batch\n",
    "        if self.training: #This code will be executed if the model is set to training\n",
    "            with torch.no_grad(): #Decorator to alert Pytorch not to compute the gradients for these, as we will not backprop on them\n",
    "                self.running_mean = ((1-self.momentum) * self.running_mean) + (self.momentum * xmean) #The running mean is updated with majority of what it was (0.9*r mean) and nudged (0.1) in the direction of the current mean\n",
    "                self.running_var = ((1-self.momentum) * self.running_var) + (self.momentum * xvar) #Similar to the running mean update\n",
    "        return self.out #Returns the output of our batch with the gain and bias\n",
    "    \n",
    "    def parameters(self):\n",
    "        return [self.gamma, self.beta]\n",
    "    \n",
    "class Tanh: #Our activation layer/class\n",
    "    def __call__(self, x): #Our call function which takes our batch as an arg\n",
    "        self.out = torch.tanh(x) #Applies torch.tanh to our batch and stores it as output\n",
    "        return self.out #function returns the output when completed\n",
    "    \n",
    "    def parameters(self):\n",
    "        return []\n",
    "    \n",
    "\n",
    "n_emb = 10 #Number of dimension of char embedding vectors\n",
    "n_hidden = 300 #Number of neurons in hidden layer\n",
    "g = torch.Generator().manual_seed(2147843647) #seed for reproducibility\n",
    "\n",
    "C = torch.randn((vocab_size, n_emb), generator= g ) #Indexing embedding, with shape of vocab_size and n_emb\n",
    "\n",
    "#The model, with the implementation of the classes we created. Basically functioning like torch.Linear & torch.BatchNorm layers\n",
    "layers = [\n",
    "    Linear(n_emb*block_size, n_hidden), Tanh(),\n",
    "    Linear(n_hidden,n_hidden),Tanh(),\n",
    "    Linear(n_hidden, n_hidden), Tanh(),\n",
    "    Linear(n_hidden,n_hidden),Tanh(),\n",
    "    Linear(n_hidden, n_hidden), Tanh(),\n",
    "    Linear(n_hidden, vocab_size)\n",
    "]\n",
    "\n",
    "with torch.no_grad(): #decorator again, to let torch know that we will not be calling backprop on these\n",
    "    layers[-1].weight *=0.1 #apply to last layer to make model less confident\n",
    "    for layer in layers[:-1]:\n",
    "        if isinstance(layer, Linear): #Code below is applied to Linear layers in the layers list\n",
    "            layer.weight *= 5/3 #apply nonlinearity gain to our Linear layers\n",
    "            \n",
    "\n",
    "parameters = [C] + [p for layer in layers for p in layer.parameters()] #Number of parameters in our model\n",
    "print(sum(p.nelement() for p in parameters), 'parameters') #num of params printed\n",
    "for p in parameters:\n",
    "    p.requires_grad = True #Set that parameters require gradients, so we can backprop on them\n",
    "    \n",
    "\n",
    "\n",
    "\n",
    "#Same as before modified to fit new code better\n",
    "step_size = 100000\n",
    "batch_size = 64\n",
    "loss_acq = []\n",
    "\n",
    "for i in range(step_size):\n",
    "    #Minibatch from dataset\n",
    "    ix = torch.randint(0,X_train.shape[0], (batch_size, ),    generator=g) \n",
    "    Xtr, Ytr = X_train[ix], y_train[ix]\n",
    "    \n",
    "    #Forward pass\n",
    "    emb = C[Xtr] #Embedding vector\n",
    "    x = emb.view(emb.shape[0],-1) #Joined embedding to have same number of dimensions as w1 for matrix muliplication\n",
    "    for layer in layers:\n",
    "        x = layer(x)\n",
    "    loss = F.cross_entropy(x,Ytr)\n",
    "    \n",
    "    #Backward pass\n",
    "    for layer in layers:\n",
    "        layer.out.retain_grad()\n",
    "    for p in parameters:\n",
    "        p.grad =None\n",
    "    loss.backward()\n",
    "    \n",
    "    #Update\n",
    "    lr= 0.1 if i < 50000 else 0.01\n",
    "    for p in parameters:\n",
    "        p.data += -lr * p.grad\n",
    "        \n",
    "    #Tracking stats\n",
    "    if i % 10000 == 0:\n",
    "        print(f'{i:7d}/{step_size:7d}: {loss.item():.4f}')\n",
    "    loss_acq.append(loss.log10().item())\n",
    "    #break\n",
    "        \n",
    "print(loss.item())\n",
    "                "
   ]
  },
  {
   "cell_type": "markdown",
   "metadata": {},
   "source": [
    "Visualizations"
   ]
  },
  {
   "cell_type": "code",
   "execution_count": null,
   "metadata": {},
   "outputs": [],
   "source": []
  }
 ],
 "metadata": {
  "kernelspec": {
   "display_name": "Python 3",
   "language": "python",
   "name": "python3"
  },
  "language_info": {
   "codemirror_mode": {
    "name": "ipython",
    "version": 3
   },
   "file_extension": ".py",
   "mimetype": "text/x-python",
   "name": "python",
   "nbconvert_exporter": "python",
   "pygments_lexer": "ipython3",
   "version": "3.12.4"
  }
 },
 "nbformat": 4,
 "nbformat_minor": 2
}
