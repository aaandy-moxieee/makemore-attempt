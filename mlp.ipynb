{
 "cells": [
  {
   "cell_type": "markdown",
   "metadata": {},
   "source": [
    "Buidling MakeMore MLP"
   ]
  },
  {
   "cell_type": "code",
   "execution_count": 124,
   "metadata": {},
   "outputs": [],
   "source": [
    "import torch\n",
    "import torch.nn.functional as F\n",
    "import matplotlib.pyplot as plt\n",
    "import seaborn as sns\n",
    "%matplotlib inline"
   ]
  },
  {
   "cell_type": "code",
   "execution_count": 4,
   "metadata": {},
   "outputs": [
    {
     "data": {
      "text/plain": [
       "['emma',\n",
       " 'olivia',\n",
       " 'ava',\n",
       " 'isabella',\n",
       " 'sophia',\n",
       " 'charlotte',\n",
       " 'mia',\n",
       " 'amelia',\n",
       " 'harper',\n",
       " 'evelyn']"
      ]
     },
     "execution_count": 4,
     "metadata": {},
     "output_type": "execute_result"
    }
   ],
   "source": [
    "#Loading our data\n",
    "words = open(r'dataset\\names.txt',mode='r').read().splitlines()\n",
    "words[:10]"
   ]
  },
  {
   "cell_type": "code",
   "execution_count": 8,
   "metadata": {},
   "outputs": [
    {
     "name": "stdout",
     "output_type": "stream",
     "text": [
      "{1: 'a', 2: 'b', 3: 'c', 4: 'd', 5: 'e', 6: 'f', 7: 'g', 8: 'h', 9: 'i', 10: 'j', 11: 'k', 12: 'l', 13: 'm', 14: 'n', 15: 'o', 16: 'p', 17: 'q', 18: 'r', 19: 's', 20: 't', 21: 'u', 22: 'v', 23: 'w', 24: 'x', 25: 'y', 26: 'z', 0: '.'}\n"
     ]
    }
   ],
   "source": [
    "#charset\n",
    "chars = sorted(list(set(''.join(words))))\n",
    "S_to_I = {s:i+1 for i,s in enumerate(chars)}\n",
    "S_to_I['.'] = 0\n",
    "I_to_S = {i:s for s,i in S_to_I.items()}\n",
    "\n",
    "print(I_to_S)"
   ]
  },
  {
   "cell_type": "markdown",
   "metadata": {},
   "source": [
    "Building the Dataset, and context size (length) and storing our input/index char (X) & our probable/next char (Y) in tensors."
   ]
  },
  {
   "cell_type": "code",
   "execution_count": 78,
   "metadata": {},
   "outputs": [],
   "source": [
    "block_size = 3\n",
    "X, Y = [],[]\n",
    "for w in words:\n",
    "    #print(w)\n",
    "    context = [0] * block_size\n",
    "    for ch in w +'.':\n",
    "        ix = S_to_I[ch]\n",
    "        X.append(context)\n",
    "        Y.append(ix)\n",
    "        #print(''.join(I_to_S[i] for i in context), '----->', I_to_S[ix])\n",
    "        context = context[1:] + [ix]\n",
    "        \n",
    "X = torch.tensor(X)\n",
    "Y = torch.tensor(Y)"
   ]
  },
  {
   "cell_type": "code",
   "execution_count": null,
   "metadata": {},
   "outputs": [],
   "source": []
  },
  {
   "cell_type": "code",
   "execution_count": 144,
   "metadata": {},
   "outputs": [],
   "source": [
    "def build_dataset(words):\n",
    "    block_size = 3\n",
    "    X, Y = [],[]\n",
    "    for w in words:\n",
    "        #print(w)\n",
    "        context = [0] * block_size\n",
    "        for ch in w +'.':\n",
    "            ix = S_to_I[ch]\n",
    "            X.append(context)\n",
    "            Y.append(ix)\n",
    "            #print(''.join(I_to_S[i] for i in context), '----->', I_to_S[ix])\n",
    "            context = context[1:] + [ix]\n",
    "            \n",
    "    X = torch.tensor(X)\n",
    "    Y = torch.tensor(Y)\n",
    "    return X,Y\n",
    "\n",
    "import random\n",
    "random.seed(42)\n",
    "random.shuffle(words)\n",
    "n1 = int(0.8 *len(words))\n",
    "n2 = int(0.9*len(words))\n",
    "\n",
    "X_train, y_train = build_dataset(words[n1:])\n",
    "X_valid, y_valid = build_dataset(words[n1:n2])\n",
    "X_test , y_test = build_dataset(words[n2:])"
   ]
  },
  {
   "cell_type": "code",
   "execution_count": 146,
   "metadata": {},
   "outputs": [
    {
     "data": {
      "text/plain": [
       "(45521, 22866, 22655)"
      ]
     },
     "execution_count": 146,
     "metadata": {},
     "output_type": "execute_result"
    }
   ],
   "source": [
    "len(X_train), len(X_test), len(X_valid)"
   ]
  },
  {
   "cell_type": "code",
   "execution_count": 147,
   "metadata": {},
   "outputs": [
    {
     "data": {
      "text/plain": [
       "(45521, 22866, 22655)"
      ]
     },
     "execution_count": 147,
     "metadata": {},
     "output_type": "execute_result"
    }
   ],
   "source": [
    "len(y_train), len(y_test), len(y_valid)"
   ]
  },
  {
   "cell_type": "markdown",
   "metadata": {},
   "source": [
    "Implementing our lookup & Embedding table (lookup C, init to randn) ----------"
   ]
  },
  {
   "cell_type": "code",
   "execution_count": 20,
   "metadata": {},
   "outputs": [],
   "source": [
    "C = torch.randn([27,2])"
   ]
  },
  {
   "cell_type": "markdown",
   "metadata": {},
   "source": [
    "F.one_hot(torch.tensor(3), num_classes=27).float()\n",
    "Another way to index in our lookup table using F.one_hot, which stretches out the input tensor and switches only the index at 3, when applying matrix mult. (1,27) @ (27,2) = (1,2) tensor which is == indexing in the lookup table."
   ]
  },
  {
   "cell_type": "code",
   "execution_count": 33,
   "metadata": {},
   "outputs": [
    {
     "data": {
      "text/plain": [
       "torch.Size([16, 3, 2])"
      ]
     },
     "execution_count": 33,
     "metadata": {},
     "output_type": "execute_result"
    }
   ],
   "source": [
    "emb = C[X]\n",
    "emb.shape"
   ]
  },
  {
   "cell_type": "markdown",
   "metadata": {},
   "source": [
    "Bulilding the hidden layer (tanh activation with 100 nodes as output from it)"
   ]
  },
  {
   "cell_type": "code",
   "execution_count": 34,
   "metadata": {},
   "outputs": [],
   "source": [
    "w1 = torch.randn([6,100]) #created weights1 init to randn tensor with shape (3*2 from our embedding, and 100 outputs as per our hyperparameter)\n",
    "b1 = torch.randn((100))"
   ]
  },
  {
   "cell_type": "markdown",
   "metadata": {},
   "source": [
    "N.B Always check if tensors are broadcastable, in this case because we are adding b1 to the product of emb.view() & w1. We need to check that the product & b1 are broadcastable"
   ]
  },
  {
   "cell_type": "code",
   "execution_count": null,
   "metadata": {},
   "outputs": [],
   "source": [
    "#Tensor Sizes\n",
    "# PRODUCT - (   N  , 100)\n",
    "# BIAS    - (  '1' , 100)"
   ]
  },
  {
   "cell_type": "markdown",
   "metadata": {},
   "source": [
    "They are broadcastable"
   ]
  },
  {
   "cell_type": "code",
   "execution_count": 41,
   "metadata": {},
   "outputs": [
    {
     "data": {
      "text/plain": [
       "tensor([[ 0.9894, -0.9458, -0.8773,  ...,  0.9513,  0.8980,  0.9938],\n",
       "        [ 0.9994, -0.9187, -0.9495,  ...,  0.9393,  0.9033,  0.8727],\n",
       "        [-0.9878, -0.9980, -0.9133,  ...,  0.9929,  0.9694,  0.9999],\n",
       "        ...,\n",
       "        [-0.6835, -0.6954,  0.2377,  ...,  0.9978,  0.9603,  0.9505],\n",
       "        [ 0.9970,  0.3505, -0.9602,  ...,  0.9132, -0.9787,  0.9951],\n",
       "        [-0.8687,  0.9921,  0.2299,  ...,  0.9960, -0.8874, -0.9947]])"
      ]
     },
     "execution_count": 41,
     "metadata": {},
     "output_type": "execute_result"
    }
   ],
   "source": [
    "#x*w + b\n",
    "h = torch.tanh((emb.view([-1,6]) @ w1) + b1)\n",
    "h"
   ]
  },
  {
   "cell_type": "markdown",
   "metadata": {},
   "source": [
    "Creating the softmax layer, outputting probability of our possible charset"
   ]
  },
  {
   "cell_type": "code",
   "execution_count": 44,
   "metadata": {},
   "outputs": [
    {
     "data": {
      "text/plain": [
       "torch.Size([16, 27])"
      ]
     },
     "execution_count": 44,
     "metadata": {},
     "output_type": "execute_result"
    }
   ],
   "source": [
    "w2 = torch.randn([100,27]) #created weights2 init to randn tensor with shape (100 as outputs from prev layer tanh, and 27 outputs as per our 'possible' charset)\n",
    "b2 = torch.randn((27))\n",
    "\n",
    "logits = h @ w2 +b2\n",
    "logits.shape"
   ]
  },
  {
   "cell_type": "markdown",
   "metadata": {},
   "source": [
    "Creating loss function (Mean Log Likelihood)"
   ]
  },
  {
   "cell_type": "code",
   "execution_count": 54,
   "metadata": {},
   "outputs": [
    {
     "data": {
      "text/plain": [
       "tensor(13.6191)"
      ]
     },
     "execution_count": 54,
     "metadata": {},
     "output_type": "execute_result"
    }
   ],
   "source": [
    "counts = logits.exp()\n",
    "prob = counts / counts.sum(dim=1, keepdim=True)\n",
    "\n",
    "loss = -prob[torch.arange(16),Y].log().mean()\n",
    "loss"
   ]
  },
  {
   "cell_type": "markdown",
   "metadata": {},
   "source": [
    "Optimization Again!!!"
   ]
  },
  {
   "cell_type": "code",
   "execution_count": 170,
   "metadata": {},
   "outputs": [],
   "source": [
    "g =  torch.Generator().manual_seed(2147483647)\n",
    "C = torch.randn([27,10], generator=g)\n",
    "w1 = torch.randn([30,300]) #created weights1 init to randn tensor with shape (3*2 from our embedding, and 100 outputs as per our hyperparameter)\n",
    "b1 = torch.randn((300))\n",
    "w2 = torch.randn([300,27]) #created weights2 init to randn tensor with shape (100 as outputs from prev layer tanh, and 27 outputs as per our 'possible' charset)\n",
    "b2 = torch.randn((27))\n",
    "params = [C, w1, b1, w2, b2] #created new params variable to hold all Parameters as a list, so we can calculate total parameters in our network"
   ]
  },
  {
   "cell_type": "code",
   "execution_count": 172,
   "metadata": {},
   "outputs": [
    {
     "name": "stdout",
     "output_type": "stream",
     "text": [
      "17697\n"
     ]
    }
   ],
   "source": [
    "print(sum(p.nelement() for p in params))\n",
    "for p in params:\n",
    "    p.requires_grad = True"
   ]
  },
  {
   "cell_type": "code",
   "execution_count": 135,
   "metadata": {},
   "outputs": [],
   "source": [
    "learn_exp = torch.linspace(-3, 0,steps=1000)\n",
    "learn_step = 10**learn_exp"
   ]
  },
  {
   "cell_type": "code",
   "execution_count": 173,
   "metadata": {},
   "outputs": [],
   "source": [
    "learn_used = []\n",
    "steps = []\n",
    "loss_acq = []"
   ]
  },
  {
   "cell_type": "code",
   "execution_count": 190,
   "metadata": {},
   "outputs": [
    {
     "name": "stdout",
     "output_type": "stream",
     "text": [
      "1.8739458322525024\n"
     ]
    }
   ],
   "source": [
    "for i in range(100000):\n",
    "    #Minibatch from dataset\n",
    "    batch_size = torch.randint(0, X_train.shape[0], (64,))\n",
    "    \n",
    "    #Forward pass\n",
    "    emb = C[X_train[batch_size]]\n",
    "    h = torch.tanh((emb.view([-1,30]) @ w1) + b1)\n",
    "    logits = h @ w2 +b2\n",
    "    #counts = logits.exp()\n",
    "    #prob = counts / counts.sum(dim=1, keepdim=True)\n",
    "    #loss = -prob[torch.arange(16),Y].log().mean()\n",
    "    loss = F.cross_entropy(logits, y_train[batch_size])\n",
    "    \n",
    "    #Backward pass\n",
    "    for p in params:\n",
    "        p.grad =None\n",
    "    loss.backward()\n",
    "    #learning rate adjust\n",
    "    #lr = learn_step[i]\n",
    "    #Update\n",
    "    lr= 0.1 if i < 50000 else 0.01\n",
    "    for p in params:\n",
    "        p.data += -lr * p.grad\n",
    "    #learning rate tracking\n",
    "    #learn_used.append(learn_exp[i])\n",
    "    steps.append(i)\n",
    "    loss_acq.append(loss.log10().item())\n",
    "        \n",
    "print(loss.item())"
   ]
  },
  {
   "cell_type": "code",
   "execution_count": 191,
   "metadata": {},
   "outputs": [
    {
     "data": {
      "text/plain": [
       "[<matplotlib.lines.Line2D at 0x171693466f0>]"
      ]
     },
     "execution_count": 191,
     "metadata": {},
     "output_type": "execute_result"
    },
    {
     "data": {
      "image/png": "[encoded data removed]",
      "text/plain": [
       "<Figure size 640x480 with 1 Axes>"
      ]
     },
     "metadata": {},
     "output_type": "display_data"
    }
   ],
   "source": [
    "plt.plot(steps,loss_acq)"
   ]
  },
  {
   "cell_type": "markdown",
   "metadata": {},
   "source": [
    "Loss on entire Training set (no batches)"
   ]
  },
  {
   "cell_type": "code",
   "execution_count": 192,
   "metadata": {},
   "outputs": [
    {
     "name": "stdout",
     "output_type": "stream",
     "text": [
      "2.0213379859924316\n"
     ]
    }
   ],
   "source": [
    "emb = C[X_train]\n",
    "h = torch.tanh((emb.view([-1,30]) @ w1) + b1)\n",
    "logits = h @ w2 +b2\n",
    "#counts = logits.exp()\n",
    "#prob = counts / counts.sum(dim=1, keepdim=True)\n",
    "#loss = -prob[torch.arange(16),Y].log().mean()\n",
    "loss = F.cross_entropy(logits, y_train)\n",
    "print(loss.item())\n"
   ]
  },
  {
   "cell_type": "markdown",
   "metadata": {},
   "source": [
    "Loss on Validation set"
   ]
  },
  {
   "cell_type": "code",
   "execution_count": 193,
   "metadata": {},
   "outputs": [
    {
     "name": "stdout",
     "output_type": "stream",
     "text": [
      "2.0201516151428223\n"
     ]
    }
   ],
   "source": [
    "emb = C[X_valid]\n",
    "h = torch.tanh((emb.view([-1,30]) @ w1) + b1)\n",
    "logits = h @ w2 +b2\n",
    "#counts = logits.exp()\n",
    "#prob = counts / counts.sum(dim=1, keepdim=True)\n",
    "#loss = -prob[torch.arange(16),Y].log().mean()\n",
    "loss = F.cross_entropy(logits, y_valid)\n",
    "print(loss.item())\n"
   ]
  },
  {
   "cell_type": "code",
   "execution_count": 169,
   "metadata": {},
   "outputs": [
    {
     "data": {
      "image/png": "[encoded data removed]",
      "text/plain": [
       "<Figure size 800x800 with 1 Axes>"
      ]
     },
     "metadata": {},
     "output_type": "display_data"
    }
   ],
   "source": [
    "plt.figure(figsize=(8,8))\n",
    "plt.scatter(C[:,0].data,C[:,1].data, s=200)\n",
    "for i in range (C.shape[0]):\n",
    "    plt.text(C[i,0].item(), C[i,1].item(), I_to_S[i], ha= 'center', va= 'center', color='white')\n",
    "    plt.grid('minor')"
   ]
  },
  {
   "cell_type": "markdown",
   "metadata": {},
   "source": [
    "Sampling from the model"
   ]
  },
  {
   "cell_type": "code",
   "execution_count": 194,
   "metadata": {},
   "outputs": [
    {
     "name": "stdout",
     "output_type": "stream",
     "text": [
      "junide.\n",
      "jaya.\n",
      "azha.\n",
      "cory.\n",
      "alin.\n",
      "korin.\n",
      "toria.\n",
      "saree.\n",
      "kalania.\n",
      "yani.\n",
      "eveav.\n",
      "dedaine.\n",
      "ambrissayiely.\n",
      "arth.\n",
      "faveum.\n",
      "kyfiette.\n",
      "maryas.\n",
      "mah.\n",
      "jaylie.\n",
      "raaysen.\n"
     ]
    }
   ],
   "source": [
    "g = torch.Generator().manual_seed(2147483647)\n",
    "\n",
    "\n",
    "for _ in range(20):\n",
    "    \n",
    "    out = []\n",
    "    context = [0] * block_size\n",
    "    while True:\n",
    "        emb = C[torch.tensor([context])]\n",
    "        h = torch.tanh((emb.view(1,-1) @ w1) + b1)\n",
    "        logits = h @ w2 + b2\n",
    "        probs = F.softmax(logits, dim=1)\n",
    "        ix = torch.multinomial(probs, num_samples=1, generator=g).item()\n",
    "        context = context[1:] + [ix]\n",
    "        out.append(ix)\n",
    "        if ix == 0:\n",
    "            break\n",
    "        \n",
    "    print(''.join(I_to_S[i] for i in out))"
   ]
  },
  {
   "cell_type": "code",
   "execution_count": null,
   "metadata": {},
   "outputs": [],
   "source": []
  }
 ],
 "metadata": {
  "kernelspec": {
   "display_name": "Python 3",
   "language": "python",
   "name": "python3"
  },
  "language_info": {
   "codemirror_mode": {
    "name": "ipython",
    "version": 3
   },
   "file_extension": ".py",
   "mimetype": "text/x-python",
   "name": "python",
   "nbconvert_exporter": "python",
   "pygments_lexer": "ipython3",
   "version": "3.12.3"
  }
 },
 "nbformat": 4,
 "nbformat_minor": 2
}
